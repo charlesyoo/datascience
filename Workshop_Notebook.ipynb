{
  "cells": [
    {
      "cell_type": "markdown",
      "metadata": {
        "id": "view-in-github",
        "colab_type": "text"
      },
      "source": [
        "<a href=\"https://colab.research.google.com/github/charlesyoo/datascience/blob/master/Workshop_Notebook.ipynb\" target=\"_parent\"><img src=\"https://colab.research.google.com/assets/colab-badge.svg\" alt=\"Open In Colab\"/></a>"
      ]
    },
    {
      "cell_type": "code",
      "execution_count": null,
      "metadata": {
        "id": "Q4REdxalwFYT"
      },
      "outputs": [],
      "source": [
        "\n",
        "import pandas as pd\n",
        "import numpy as np\n",
        "import matplotlib\n",
        "import matplotlib.pyplot as plt\n",
        "matplotlib.style.use('ggplot')\n",
        "%matplotlib inline\n",
        "import seaborn as sns\n",
        "import plotly.express as px\n",
        "import plotly.graph_objects as go"
      ]
    },
    {
      "cell_type": "markdown",
      "metadata": {
        "id": "gb5NXDk9wFYY"
      },
      "source": [
        "# Importing"
      ]
    },
    {
      "cell_type": "code",
      "execution_count": null,
      "metadata": {
        "id": "f3Lre-wMwFYb"
      },
      "outputs": [],
      "source": [
        "data = pd.read_csv(\"WorkshopData.csv\")"
      ]
    },
    {
      "cell_type": "code",
      "execution_count": null,
      "metadata": {
        "id": "O2PFlYm5wFYc",
        "outputId": "17d68b21-0221-4d48-8cba-c3829f4c1f22"
      },
      "outputs": [
        {
          "data": {
            "text/html": [
              "<div>\n",
              "<style scoped>\n",
              "    .dataframe tbody tr th:only-of-type {\n",
              "        vertical-align: middle;\n",
              "    }\n",
              "\n",
              "    .dataframe tbody tr th {\n",
              "        vertical-align: top;\n",
              "    }\n",
              "\n",
              "    .dataframe thead th {\n",
              "        text-align: right;\n",
              "    }\n",
              "</style>\n",
              "<table border=\"1\" class=\"dataframe\">\n",
              "  <thead>\n",
              "    <tr style=\"text-align: right;\">\n",
              "      <th></th>\n",
              "      <th>Loan_ID</th>\n",
              "      <th>Gender</th>\n",
              "      <th>Married</th>\n",
              "      <th>Dependents</th>\n",
              "      <th>Education</th>\n",
              "      <th>Self_Employed</th>\n",
              "      <th>ApplicantIncome</th>\n",
              "      <th>LoanAmount</th>\n",
              "      <th>Loan_Amount_Term</th>\n",
              "      <th>Credit_History</th>\n",
              "      <th>Property_Area</th>\n",
              "      <th>Loan_Status</th>\n",
              "    </tr>\n",
              "  </thead>\n",
              "  <tbody>\n",
              "    <tr>\n",
              "      <th>0</th>\n",
              "      <td>LP001002</td>\n",
              "      <td>Male</td>\n",
              "      <td>No</td>\n",
              "      <td>0.0</td>\n",
              "      <td>Graduate</td>\n",
              "      <td>No</td>\n",
              "      <td>4000-&lt;=6000</td>\n",
              "      <td>NaN</td>\n",
              "      <td>360.0</td>\n",
              "      <td>1.0</td>\n",
              "      <td>Urban</td>\n",
              "      <td>1.0</td>\n",
              "    </tr>\n",
              "    <tr>\n",
              "      <th>1</th>\n",
              "      <td>LP001003</td>\n",
              "      <td>Male</td>\n",
              "      <td>Yes</td>\n",
              "      <td>1.0</td>\n",
              "      <td>Graduate</td>\n",
              "      <td>No</td>\n",
              "      <td>4000-&lt;=6000</td>\n",
              "      <td>128.0</td>\n",
              "      <td>360.0</td>\n",
              "      <td>1.0</td>\n",
              "      <td>Rural</td>\n",
              "      <td>0.0</td>\n",
              "    </tr>\n",
              "    <tr>\n",
              "      <th>2</th>\n",
              "      <td>LP001005</td>\n",
              "      <td>Male</td>\n",
              "      <td>Yes</td>\n",
              "      <td>0.0</td>\n",
              "      <td>Graduate</td>\n",
              "      <td>Yes</td>\n",
              "      <td>2000-&lt;=3000</td>\n",
              "      <td>66.0</td>\n",
              "      <td>360.0</td>\n",
              "      <td>1.0</td>\n",
              "      <td>Urban</td>\n",
              "      <td>1.0</td>\n",
              "    </tr>\n",
              "    <tr>\n",
              "      <th>3</th>\n",
              "      <td>LP001006</td>\n",
              "      <td>Male</td>\n",
              "      <td>Yes</td>\n",
              "      <td>0.0</td>\n",
              "      <td>Not Graduate</td>\n",
              "      <td>No</td>\n",
              "      <td>2000-&lt;=3000</td>\n",
              "      <td>120.0</td>\n",
              "      <td>360.0</td>\n",
              "      <td>1.0</td>\n",
              "      <td>Urban</td>\n",
              "      <td>1.0</td>\n",
              "    </tr>\n",
              "    <tr>\n",
              "      <th>4</th>\n",
              "      <td>LP001008</td>\n",
              "      <td>Male</td>\n",
              "      <td>No</td>\n",
              "      <td>0.0</td>\n",
              "      <td>Graduate</td>\n",
              "      <td>No</td>\n",
              "      <td>4000-&lt;=6000</td>\n",
              "      <td>141.0</td>\n",
              "      <td>360.0</td>\n",
              "      <td>1.0</td>\n",
              "      <td>Urban</td>\n",
              "      <td>1.0</td>\n",
              "    </tr>\n",
              "  </tbody>\n",
              "</table>\n",
              "</div>"
            ],
            "text/plain": [
              "    Loan_ID Gender Married  Dependents     Education Self_Employed  \\\n",
              "0  LP001002   Male      No         0.0      Graduate            No   \n",
              "1  LP001003   Male     Yes         1.0      Graduate            No   \n",
              "2  LP001005   Male     Yes         0.0      Graduate           Yes   \n",
              "3  LP001006   Male     Yes         0.0  Not Graduate            No   \n",
              "4  LP001008   Male      No         0.0      Graduate            No   \n",
              "\n",
              "  ApplicantIncome  LoanAmount  Loan_Amount_Term  Credit_History Property_Area  \\\n",
              "0     4000-<=6000         NaN             360.0             1.0         Urban   \n",
              "1     4000-<=6000       128.0             360.0             1.0         Rural   \n",
              "2     2000-<=3000        66.0             360.0             1.0         Urban   \n",
              "3     2000-<=3000       120.0             360.0             1.0         Urban   \n",
              "4     4000-<=6000       141.0             360.0             1.0         Urban   \n",
              "\n",
              "   Loan_Status  \n",
              "0          1.0  \n",
              "1          0.0  \n",
              "2          1.0  \n",
              "3          1.0  \n",
              "4          1.0  "
            ]
          },
          "execution_count": 3,
          "metadata": {},
          "output_type": "execute_result"
        }
      ],
      "source": [
        "data.head()"
      ]
    },
    {
      "cell_type": "markdown",
      "metadata": {
        "id": "d6ie56M1wFYe"
      },
      "source": [
        "# Cleaning"
      ]
    },
    {
      "cell_type": "code",
      "execution_count": null,
      "metadata": {
        "id": "DAeHCa49wFYe",
        "outputId": "57dddc1d-0fbc-476b-e58b-85f26831c20a"
      },
      "outputs": [
        {
          "data": {
            "text/plain": [
              "Loan_ID              0\n",
              "Gender              13\n",
              "Married              3\n",
              "Dependents          15\n",
              "Education            0\n",
              "Self_Employed       32\n",
              "ApplicantIncome      0\n",
              "LoanAmount          22\n",
              "Loan_Amount_Term    14\n",
              "Credit_History      50\n",
              "Property_Area        0\n",
              "Loan_Status          0\n",
              "dtype: int64"
            ]
          },
          "execution_count": 4,
          "metadata": {},
          "output_type": "execute_result"
        }
      ],
      "source": [
        "data.isna().sum()"
      ]
    },
    {
      "cell_type": "code",
      "execution_count": null,
      "metadata": {
        "id": "ocLLSqILwFYf"
      },
      "outputs": [],
      "source": [
        "data.dropna(inplace=True)\n",
        "# data.dropna(subset=['Gender', 'Dependents', 'Loan_Amount_Term'], inplace=True)\n",
        "# inplace=True means to change the \"data\" variable rather than generating a new dataframe"
      ]
    },
    {
      "cell_type": "markdown",
      "metadata": {
        "id": "JTJ4wuz9wFYg"
      },
      "source": [
        "# Ordinal Encoding"
      ]
    },
    {
      "cell_type": "code",
      "execution_count": null,
      "metadata": {
        "id": "-DrXumtpwFYh"
      },
      "outputs": [],
      "source": [
        "# normally, place all import statements at the top of the file\n",
        "from sklearn.preprocessing import OrdinalEncoder"
      ]
    },
    {
      "cell_type": "code",
      "execution_count": null,
      "metadata": {
        "id": "WCMAoR6KwFYh",
        "outputId": "e3ba85aa-6a0e-4110-9ea1-11f7726a514a"
      },
      "outputs": [
        {
          "data": {
            "text/plain": [
              "array(['4000-<=6000', '2000-<=3000', '3000-<=4000', '10000-<=20000',\n",
              "       '1000-<=2000', '6000-<=8000', '8000-<=10000', '0-<=1000',\n",
              "       '20000-<=100000'], dtype=object)"
            ]
          },
          "execution_count": 7,
          "metadata": {},
          "output_type": "execute_result"
        }
      ],
      "source": [
        "data['ApplicantIncome'].unique()"
      ]
    },
    {
      "cell_type": "code",
      "execution_count": null,
      "metadata": {
        "id": "M3xsKqQIwFYi"
      },
      "outputs": [],
      "source": [
        "income_sort = ['0-<=1000','1000-<=2000', '2000-<=3000', '3000-<=4000','4000-<=6000','6000-<=8000','8000-<=10000','10000-<=20000','20000-<=100000']\n",
        "income_enc = OrdinalEncoder(categories=[income_sort])"
      ]
    },
    {
      "cell_type": "code",
      "execution_count": null,
      "metadata": {
        "id": "yMbpuP6bwFYj"
      },
      "outputs": [],
      "source": [
        "data['ApplicantIncome'] = income_enc.fit_transform(data['ApplicantIncome'].values.reshape(-1, 1))\n",
        "# \"values\" converts the column from a pd.Series object to numpy.ndarray object\n",
        "# \"reshape(-1, 1)\" converts the dimension of the object from (length,) to (length, 1); in other words, [a,b,c,...] --> [[a,b,c,...]]"
      ]
    },
    {
      "cell_type": "code",
      "execution_count": null,
      "metadata": {
        "id": "lQjJE2X1wFYj",
        "outputId": "79154216-459e-4911-99ee-f2679e9e2cb0"
      },
      "outputs": [
        {
          "data": {
            "text/plain": [
              "3.0    122\n",
              "4.0    111\n",
              "2.0    106\n",
              "5.0     42\n",
              "7.0     35\n",
              "6.0     29\n",
              "1.0     26\n",
              "8.0      6\n",
              "0.0      3\n",
              "Name: ApplicantIncome, dtype: int64"
            ]
          },
          "execution_count": 10,
          "metadata": {},
          "output_type": "execute_result"
        }
      ],
      "source": [
        "data['ApplicantIncome'].value_counts()"
      ]
    },
    {
      "cell_type": "code",
      "execution_count": null,
      "metadata": {
        "id": "E_BJQZ9jwFYj"
      },
      "outputs": [],
      "source": [
        "def encode_binary_variable(df, col, val_pos, val_neg):\n",
        "    df[col] = df[col].replace({val_pos:1, val_neg:0})"
      ]
    },
    {
      "cell_type": "code",
      "execution_count": null,
      "metadata": {
        "id": "Mxi2LsxYwFYk"
      },
      "outputs": [],
      "source": [
        "encode_binary_variable(data, \"Married\", \"Yes\", \"No\")\n",
        "encode_binary_variable(data, \"Education\", \"Graduate\", \"Not Graduate\")\n",
        "encode_binary_variable(data, \"Self_Employed\", \"Yes\", \"No\")\n",
        "encode_binary_variable(data, \"Gender\", \"Female\", \"Male\")"
      ]
    },
    {
      "cell_type": "markdown",
      "metadata": {
        "id": "QWM-cFXcwFYk"
      },
      "source": [
        "# One-Hot Encoding"
      ]
    },
    {
      "cell_type": "code",
      "execution_count": null,
      "metadata": {
        "id": "uBiSOy26wFYl",
        "outputId": "4b4db750-fc5c-47f0-e439-7156739260f2"
      },
      "outputs": [
        {
          "data": {
            "text/html": [
              "<div>\n",
              "<style scoped>\n",
              "    .dataframe tbody tr th:only-of-type {\n",
              "        vertical-align: middle;\n",
              "    }\n",
              "\n",
              "    .dataframe tbody tr th {\n",
              "        vertical-align: top;\n",
              "    }\n",
              "\n",
              "    .dataframe thead th {\n",
              "        text-align: right;\n",
              "    }\n",
              "</style>\n",
              "<table border=\"1\" class=\"dataframe\">\n",
              "  <thead>\n",
              "    <tr style=\"text-align: right;\">\n",
              "      <th></th>\n",
              "      <th>Rural</th>\n",
              "      <th>Semiurban</th>\n",
              "      <th>Urban</th>\n",
              "    </tr>\n",
              "  </thead>\n",
              "  <tbody>\n",
              "    <tr>\n",
              "      <th>1</th>\n",
              "      <td>1</td>\n",
              "      <td>0</td>\n",
              "      <td>0</td>\n",
              "    </tr>\n",
              "    <tr>\n",
              "      <th>2</th>\n",
              "      <td>0</td>\n",
              "      <td>0</td>\n",
              "      <td>1</td>\n",
              "    </tr>\n",
              "    <tr>\n",
              "      <th>3</th>\n",
              "      <td>0</td>\n",
              "      <td>0</td>\n",
              "      <td>1</td>\n",
              "    </tr>\n",
              "    <tr>\n",
              "      <th>4</th>\n",
              "      <td>0</td>\n",
              "      <td>0</td>\n",
              "      <td>1</td>\n",
              "    </tr>\n",
              "    <tr>\n",
              "      <th>5</th>\n",
              "      <td>0</td>\n",
              "      <td>0</td>\n",
              "      <td>1</td>\n",
              "    </tr>\n",
              "  </tbody>\n",
              "</table>\n",
              "</div>"
            ],
            "text/plain": [
              "   Rural  Semiurban  Urban\n",
              "1      1          0      0\n",
              "2      0          0      1\n",
              "3      0          0      1\n",
              "4      0          0      1\n",
              "5      0          0      1"
            ]
          },
          "execution_count": 11,
          "metadata": {},
          "output_type": "execute_result"
        }
      ],
      "source": [
        "dummies = pd.get_dummies(data['Property_Area'])\n",
        "dummies.head()"
      ]
    },
    {
      "cell_type": "code",
      "execution_count": null,
      "metadata": {
        "id": "UMX2voZVwFYl",
        "outputId": "5dc22eea-2bff-41dd-d25f-d42a791219e3"
      },
      "outputs": [
        {
          "data": {
            "text/html": [
              "<div>\n",
              "<style scoped>\n",
              "    .dataframe tbody tr th:only-of-type {\n",
              "        vertical-align: middle;\n",
              "    }\n",
              "\n",
              "    .dataframe tbody tr th {\n",
              "        vertical-align: top;\n",
              "    }\n",
              "\n",
              "    .dataframe thead th {\n",
              "        text-align: right;\n",
              "    }\n",
              "</style>\n",
              "<table border=\"1\" class=\"dataframe\">\n",
              "  <thead>\n",
              "    <tr style=\"text-align: right;\">\n",
              "      <th></th>\n",
              "      <th>Loan_ID</th>\n",
              "      <th>Gender</th>\n",
              "      <th>Married</th>\n",
              "      <th>Dependents</th>\n",
              "      <th>Education</th>\n",
              "      <th>Self_Employed</th>\n",
              "      <th>ApplicantIncome</th>\n",
              "      <th>LoanAmount</th>\n",
              "      <th>Loan_Amount_Term</th>\n",
              "      <th>Credit_History</th>\n",
              "      <th>Property_Area</th>\n",
              "      <th>Loan_Status</th>\n",
              "      <th>Rural</th>\n",
              "      <th>Semiurban</th>\n",
              "      <th>Urban</th>\n",
              "    </tr>\n",
              "  </thead>\n",
              "  <tbody>\n",
              "    <tr>\n",
              "      <th>1</th>\n",
              "      <td>LP001003</td>\n",
              "      <td>Male</td>\n",
              "      <td>Yes</td>\n",
              "      <td>1.0</td>\n",
              "      <td>Graduate</td>\n",
              "      <td>No</td>\n",
              "      <td>4.0</td>\n",
              "      <td>128.0</td>\n",
              "      <td>360.0</td>\n",
              "      <td>1.0</td>\n",
              "      <td>Rural</td>\n",
              "      <td>0.0</td>\n",
              "      <td>1</td>\n",
              "      <td>0</td>\n",
              "      <td>0</td>\n",
              "    </tr>\n",
              "    <tr>\n",
              "      <th>2</th>\n",
              "      <td>LP001005</td>\n",
              "      <td>Male</td>\n",
              "      <td>Yes</td>\n",
              "      <td>0.0</td>\n",
              "      <td>Graduate</td>\n",
              "      <td>Yes</td>\n",
              "      <td>2.0</td>\n",
              "      <td>66.0</td>\n",
              "      <td>360.0</td>\n",
              "      <td>1.0</td>\n",
              "      <td>Urban</td>\n",
              "      <td>1.0</td>\n",
              "      <td>0</td>\n",
              "      <td>0</td>\n",
              "      <td>1</td>\n",
              "    </tr>\n",
              "    <tr>\n",
              "      <th>3</th>\n",
              "      <td>LP001006</td>\n",
              "      <td>Male</td>\n",
              "      <td>Yes</td>\n",
              "      <td>0.0</td>\n",
              "      <td>Not Graduate</td>\n",
              "      <td>No</td>\n",
              "      <td>2.0</td>\n",
              "      <td>120.0</td>\n",
              "      <td>360.0</td>\n",
              "      <td>1.0</td>\n",
              "      <td>Urban</td>\n",
              "      <td>1.0</td>\n",
              "      <td>0</td>\n",
              "      <td>0</td>\n",
              "      <td>1</td>\n",
              "    </tr>\n",
              "    <tr>\n",
              "      <th>4</th>\n",
              "      <td>LP001008</td>\n",
              "      <td>Male</td>\n",
              "      <td>No</td>\n",
              "      <td>0.0</td>\n",
              "      <td>Graduate</td>\n",
              "      <td>No</td>\n",
              "      <td>4.0</td>\n",
              "      <td>141.0</td>\n",
              "      <td>360.0</td>\n",
              "      <td>1.0</td>\n",
              "      <td>Urban</td>\n",
              "      <td>1.0</td>\n",
              "      <td>0</td>\n",
              "      <td>0</td>\n",
              "      <td>1</td>\n",
              "    </tr>\n",
              "    <tr>\n",
              "      <th>5</th>\n",
              "      <td>LP001011</td>\n",
              "      <td>Male</td>\n",
              "      <td>Yes</td>\n",
              "      <td>2.0</td>\n",
              "      <td>Graduate</td>\n",
              "      <td>Yes</td>\n",
              "      <td>4.0</td>\n",
              "      <td>267.0</td>\n",
              "      <td>360.0</td>\n",
              "      <td>1.0</td>\n",
              "      <td>Urban</td>\n",
              "      <td>1.0</td>\n",
              "      <td>0</td>\n",
              "      <td>0</td>\n",
              "      <td>1</td>\n",
              "    </tr>\n",
              "  </tbody>\n",
              "</table>\n",
              "</div>"
            ],
            "text/plain": [
              "    Loan_ID Gender Married  Dependents     Education Self_Employed  \\\n",
              "1  LP001003   Male     Yes         1.0      Graduate            No   \n",
              "2  LP001005   Male     Yes         0.0      Graduate           Yes   \n",
              "3  LP001006   Male     Yes         0.0  Not Graduate            No   \n",
              "4  LP001008   Male      No         0.0      Graduate            No   \n",
              "5  LP001011   Male     Yes         2.0      Graduate           Yes   \n",
              "\n",
              "   ApplicantIncome  LoanAmount  Loan_Amount_Term  Credit_History  \\\n",
              "1              4.0       128.0             360.0             1.0   \n",
              "2              2.0        66.0             360.0             1.0   \n",
              "3              2.0       120.0             360.0             1.0   \n",
              "4              4.0       141.0             360.0             1.0   \n",
              "5              4.0       267.0             360.0             1.0   \n",
              "\n",
              "  Property_Area  Loan_Status  Rural  Semiurban  Urban  \n",
              "1         Rural          0.0      1          0      0  \n",
              "2         Urban          1.0      0          0      1  \n",
              "3         Urban          1.0      0          0      1  \n",
              "4         Urban          1.0      0          0      1  \n",
              "5         Urban          1.0      0          0      1  "
            ]
          },
          "execution_count": 12,
          "metadata": {},
          "output_type": "execute_result"
        }
      ],
      "source": [
        "data = pd.concat([data, dummies], axis=1)\n",
        "data.head()"
      ]
    },
    {
      "cell_type": "code",
      "execution_count": null,
      "metadata": {
        "id": "jAQbwe_uwFYm"
      },
      "outputs": [],
      "source": [
        "data.drop(labels=[\"Property_Area\"], axis=1, inplace=True)"
      ]
    },
    {
      "cell_type": "code",
      "execution_count": null,
      "metadata": {
        "scrolled": true,
        "id": "5eYzUxKrwFYm",
        "outputId": "1b420d79-551e-4459-fcf5-645d0dfb0275"
      },
      "outputs": [
        {
          "data": {
            "text/html": [
              "<div>\n",
              "<style scoped>\n",
              "    .dataframe tbody tr th:only-of-type {\n",
              "        vertical-align: middle;\n",
              "    }\n",
              "\n",
              "    .dataframe tbody tr th {\n",
              "        vertical-align: top;\n",
              "    }\n",
              "\n",
              "    .dataframe thead th {\n",
              "        text-align: right;\n",
              "    }\n",
              "</style>\n",
              "<table border=\"1\" class=\"dataframe\">\n",
              "  <thead>\n",
              "    <tr style=\"text-align: right;\">\n",
              "      <th></th>\n",
              "      <th>Loan_ID</th>\n",
              "      <th>Gender</th>\n",
              "      <th>Married</th>\n",
              "      <th>Dependents</th>\n",
              "      <th>Education</th>\n",
              "      <th>Self_Employed</th>\n",
              "      <th>ApplicantIncome</th>\n",
              "      <th>LoanAmount</th>\n",
              "      <th>Loan_Amount_Term</th>\n",
              "      <th>Credit_History</th>\n",
              "      <th>Loan_Status</th>\n",
              "      <th>Rural</th>\n",
              "      <th>Semiurban</th>\n",
              "      <th>Urban</th>\n",
              "    </tr>\n",
              "  </thead>\n",
              "  <tbody>\n",
              "    <tr>\n",
              "      <th>1</th>\n",
              "      <td>LP001003</td>\n",
              "      <td>0</td>\n",
              "      <td>1</td>\n",
              "      <td>1.0</td>\n",
              "      <td>1</td>\n",
              "      <td>0</td>\n",
              "      <td>4.0</td>\n",
              "      <td>128.0</td>\n",
              "      <td>360.0</td>\n",
              "      <td>1.0</td>\n",
              "      <td>0.0</td>\n",
              "      <td>1</td>\n",
              "      <td>0</td>\n",
              "      <td>0</td>\n",
              "    </tr>\n",
              "    <tr>\n",
              "      <th>2</th>\n",
              "      <td>LP001005</td>\n",
              "      <td>0</td>\n",
              "      <td>1</td>\n",
              "      <td>0.0</td>\n",
              "      <td>1</td>\n",
              "      <td>1</td>\n",
              "      <td>2.0</td>\n",
              "      <td>66.0</td>\n",
              "      <td>360.0</td>\n",
              "      <td>1.0</td>\n",
              "      <td>1.0</td>\n",
              "      <td>0</td>\n",
              "      <td>0</td>\n",
              "      <td>1</td>\n",
              "    </tr>\n",
              "    <tr>\n",
              "      <th>3</th>\n",
              "      <td>LP001006</td>\n",
              "      <td>0</td>\n",
              "      <td>1</td>\n",
              "      <td>0.0</td>\n",
              "      <td>0</td>\n",
              "      <td>0</td>\n",
              "      <td>2.0</td>\n",
              "      <td>120.0</td>\n",
              "      <td>360.0</td>\n",
              "      <td>1.0</td>\n",
              "      <td>1.0</td>\n",
              "      <td>0</td>\n",
              "      <td>0</td>\n",
              "      <td>1</td>\n",
              "    </tr>\n",
              "    <tr>\n",
              "      <th>4</th>\n",
              "      <td>LP001008</td>\n",
              "      <td>0</td>\n",
              "      <td>0</td>\n",
              "      <td>0.0</td>\n",
              "      <td>1</td>\n",
              "      <td>0</td>\n",
              "      <td>4.0</td>\n",
              "      <td>141.0</td>\n",
              "      <td>360.0</td>\n",
              "      <td>1.0</td>\n",
              "      <td>1.0</td>\n",
              "      <td>0</td>\n",
              "      <td>0</td>\n",
              "      <td>1</td>\n",
              "    </tr>\n",
              "    <tr>\n",
              "      <th>5</th>\n",
              "      <td>LP001011</td>\n",
              "      <td>0</td>\n",
              "      <td>1</td>\n",
              "      <td>2.0</td>\n",
              "      <td>1</td>\n",
              "      <td>1</td>\n",
              "      <td>4.0</td>\n",
              "      <td>267.0</td>\n",
              "      <td>360.0</td>\n",
              "      <td>1.0</td>\n",
              "      <td>1.0</td>\n",
              "      <td>0</td>\n",
              "      <td>0</td>\n",
              "      <td>1</td>\n",
              "    </tr>\n",
              "  </tbody>\n",
              "</table>\n",
              "</div>"
            ],
            "text/plain": [
              "    Loan_ID  Gender  Married  Dependents  Education  Self_Employed  \\\n",
              "1  LP001003       0        1         1.0          1              0   \n",
              "2  LP001005       0        1         0.0          1              1   \n",
              "3  LP001006       0        1         0.0          0              0   \n",
              "4  LP001008       0        0         0.0          1              0   \n",
              "5  LP001011       0        1         2.0          1              1   \n",
              "\n",
              "   ApplicantIncome  LoanAmount  Loan_Amount_Term  Credit_History  Loan_Status  \\\n",
              "1              4.0       128.0             360.0             1.0          0.0   \n",
              "2              2.0        66.0             360.0             1.0          1.0   \n",
              "3              2.0       120.0             360.0             1.0          1.0   \n",
              "4              4.0       141.0             360.0             1.0          1.0   \n",
              "5              4.0       267.0             360.0             1.0          1.0   \n",
              "\n",
              "   Rural  Semiurban  Urban  \n",
              "1      1          0      0  \n",
              "2      0          0      1  \n",
              "3      0          0      1  \n",
              "4      0          0      1  \n",
              "5      0          0      1  "
            ]
          },
          "execution_count": 16,
          "metadata": {},
          "output_type": "execute_result"
        }
      ],
      "source": [
        "data.head()"
      ]
    },
    {
      "cell_type": "markdown",
      "metadata": {
        "id": "7e-HUt8jwFYn"
      },
      "source": [
        "# Creating the Training, Validation, and Testing Data"
      ]
    },
    {
      "cell_type": "code",
      "execution_count": null,
      "metadata": {
        "id": "GCAYQ2UbwFYn"
      },
      "outputs": [],
      "source": [
        "from sklearn.model_selection import train_test_split"
      ]
    },
    {
      "cell_type": "code",
      "execution_count": null,
      "metadata": {
        "id": "LjrP_EDewFYn"
      },
      "outputs": [],
      "source": [
        "X = data.drop(labels=[\"Loan_ID\", \"Loan_Status\"], axis=1)\n",
        "y = data[\"Loan_Status\"]"
      ]
    },
    {
      "cell_type": "code",
      "execution_count": null,
      "metadata": {
        "id": "OaYJ0q5_wFYo"
      },
      "outputs": [],
      "source": [
        "# create testing dataset\n",
        "X_train_full, X_test, y_train_full, y_test = train_test_split(X, y, test_size=0.2, random_state=0)\n",
        "# create training and validation sets\n",
        "X_train, X_val, y_train, y_val = train_test_split(X_train_full, y_train_full, test_size=0.2, random_state=0)"
      ]
    },
    {
      "cell_type": "markdown",
      "metadata": {
        "id": "6fCSWd-UwFYo"
      },
      "source": [
        "# Logistic Regression Model"
      ]
    },
    {
      "cell_type": "code",
      "execution_count": null,
      "metadata": {
        "id": "szMVTiIxwFYo"
      },
      "outputs": [],
      "source": [
        "from sklearn.linear_model import LogisticRegression"
      ]
    },
    {
      "cell_type": "code",
      "execution_count": null,
      "metadata": {
        "id": "jSVIDFiowFYp"
      },
      "outputs": [],
      "source": [
        "logreg = LogisticRegression(random_state=1, max_iter=1000)"
      ]
    },
    {
      "cell_type": "code",
      "execution_count": null,
      "metadata": {
        "id": "v2W2A8dQwFYp",
        "outputId": "b5fa8017-d090-4945-cd72-0a9b07bb9da7"
      },
      "outputs": [
        {
          "data": {
            "text/plain": [
              "LogisticRegression(max_iter=1000, random_state=1)"
            ]
          },
          "execution_count": 25,
          "metadata": {},
          "output_type": "execute_result"
        }
      ],
      "source": [
        "logreg.fit(X_train, y_train)"
      ]
    },
    {
      "cell_type": "code",
      "execution_count": null,
      "metadata": {
        "id": "bC7-83QkwFYp"
      },
      "outputs": [],
      "source": [
        "y_pred = logreg.predict(X_val)"
      ]
    },
    {
      "cell_type": "markdown",
      "metadata": {
        "id": "ZLmxQWcdwFYp"
      },
      "source": [
        "# Model Performance"
      ]
    },
    {
      "cell_type": "code",
      "execution_count": null,
      "metadata": {
        "id": "_49mLOfCwFYq",
        "outputId": "caa37548-e43f-4f1a-f34f-c5e502129f37"
      },
      "outputs": [
        {
          "name": "stdout",
          "output_type": "stream",
          "text": [
            "69.16666666666667% of entries correspond to accepted loans\n"
          ]
        }
      ],
      "source": [
        "data['Loan_Status'].value_counts()\n",
        "print(str(data['Loan_Status'].value_counts()[1]/(data['Loan_Status'].value_counts()[1]+data['Loan_Status'].value_counts()[0])*100)+\"% of entries correspond to accepted loans\")"
      ]
    },
    {
      "cell_type": "code",
      "execution_count": null,
      "metadata": {
        "id": "UVer8AzjwFYq"
      },
      "outputs": [],
      "source": [
        "from sklearn.metrics import accuracy_score, precision_score, recall_score"
      ]
    },
    {
      "cell_type": "code",
      "execution_count": null,
      "metadata": {
        "id": "057NcV73wFYq",
        "outputId": "98682aa1-7656-437c-c788-0e13177d2885"
      },
      "outputs": [
        {
          "name": "stdout",
          "output_type": "stream",
          "text": [
            "Accuracy:  0.8571428571428571\n"
          ]
        }
      ],
      "source": [
        "print(\"Accuracy: \", accuracy_score(y_val, y_pred))"
      ]
    },
    {
      "cell_type": "code",
      "execution_count": null,
      "metadata": {
        "id": "Ch1SRJtOwFYr",
        "outputId": "daf850a4-f8f4-4fd6-e6eb-1778e511b931"
      },
      "outputs": [
        {
          "name": "stdout",
          "output_type": "stream",
          "text": [
            "Precision for Accepted Applications:  0.8461538461538461\n",
            "Recall for Accepted Applications:  0.9821428571428571\n"
          ]
        }
      ],
      "source": [
        "print(\"Precision for Accepted Applications: \", precision_score(y_val, y_pred))\n",
        "print(\"Recall for Accepted Applications: \", recall_score(y_val, y_pred))"
      ]
    },
    {
      "cell_type": "code",
      "execution_count": null,
      "metadata": {
        "id": "c1HKtVgNwFYr",
        "outputId": "0278b9ae-5909-467f-c96e-a149eb185e07"
      },
      "outputs": [
        {
          "name": "stdout",
          "output_type": "stream",
          "text": [
            "Precision for Rejected Applications:  0.9166666666666666\n",
            "Recall for Rejected Applications:  0.5238095238095238\n"
          ]
        }
      ],
      "source": [
        "print(\"Precision for Rejected Applications: \", precision_score(y_val, y_pred, pos_label=0))\n",
        "print(\"Recall for Rejected Applications: \", recall_score(y_val, y_pred, pos_label=0))"
      ]
    },
    {
      "cell_type": "markdown",
      "metadata": {
        "id": "WzidnSF8wFYr"
      },
      "source": [
        "# Utilizing SMOTE"
      ]
    },
    {
      "cell_type": "code",
      "execution_count": null,
      "metadata": {
        "id": "0ag1WN4bwFYr"
      },
      "outputs": [],
      "source": [
        "from imblearn.over_sampling import SMOTE"
      ]
    },
    {
      "cell_type": "code",
      "execution_count": null,
      "metadata": {
        "id": "1dVaHBjXwFYs"
      },
      "outputs": [],
      "source": [
        "smote = SMOTE(sampling_strategy='minority')\n",
        "X_train_res, y_train_res = smote.fit_resample(X_train, y_train)"
      ]
    },
    {
      "cell_type": "code",
      "execution_count": null,
      "metadata": {
        "id": "cIe3ImQKwFYs",
        "outputId": "9f217c91-2f30-4f41-a73a-db424f2f2452"
      },
      "outputs": [
        {
          "data": {
            "text/plain": [
              "1.0    215\n",
              "0.0    215\n",
              "Name: Loan_Status, dtype: int64"
            ]
          },
          "execution_count": 34,
          "metadata": {},
          "output_type": "execute_result"
        }
      ],
      "source": [
        "y_train_res.value_counts()"
      ]
    },
    {
      "cell_type": "code",
      "execution_count": null,
      "metadata": {
        "id": "mYTCDKMnwFYt"
      },
      "outputs": [],
      "source": [
        "logreg_sm = LogisticRegression(random_state=0, max_iter=1000)\n",
        "logreg_sm.fit(X_train_res, y_train_res)\n",
        "y_pred_sm = logreg_sm.predict(X_val)"
      ]
    },
    {
      "cell_type": "code",
      "execution_count": null,
      "metadata": {
        "id": "avV5N5rxwFYt",
        "outputId": "82e51b22-f562-4924-933f-19af2f079eea"
      },
      "outputs": [
        {
          "name": "stdout",
          "output_type": "stream",
          "text": [
            "Accuracy:  0.8571428571428571\n"
          ]
        }
      ],
      "source": [
        "print(\"Accuracy: \", accuracy_score(y_val, y_pred_sm))"
      ]
    },
    {
      "cell_type": "code",
      "execution_count": null,
      "metadata": {
        "id": "K0WELjA_wFYu",
        "outputId": "e26bf906-7711-4e58-f48b-31fca0dab41a"
      },
      "outputs": [
        {
          "name": "stdout",
          "output_type": "stream",
          "text": [
            "Precision for Accepted Applications:  0.8571428571428571\n",
            "Recall for Accepted Applications:  0.9642857142857143\n"
          ]
        }
      ],
      "source": [
        "print(\"Precision for Accepted Applications: \", precision_score(y_val, y_pred_sm))\n",
        "print(\"Recall for Accepted Applications: \", recall_score(y_val, y_pred_sm))"
      ]
    },
    {
      "cell_type": "code",
      "execution_count": null,
      "metadata": {
        "id": "xCGaDFVRwFYu",
        "outputId": "b4505dc1-c733-42c5-ff79-2a81f567a792"
      },
      "outputs": [
        {
          "name": "stdout",
          "output_type": "stream",
          "text": [
            "Precision for Rejected Applications:  0.8571428571428571\n",
            "Recall for Rejected Applications:  0.5714285714285714\n"
          ]
        }
      ],
      "source": [
        "print(\"Precision for Rejected Applications: \", precision_score(y_val, y_pred_sm, pos_label=0))\n",
        "print(\"Recall for Rejected Applications: \", recall_score(y_val, y_pred_sm, pos_label=0))"
      ]
    },
    {
      "cell_type": "markdown",
      "metadata": {
        "id": "4QFk1kawwFYu"
      },
      "source": [
        "# Measuring the Tradeoff"
      ]
    },
    {
      "cell_type": "code",
      "execution_count": null,
      "metadata": {
        "id": "Y0sTBlVgwFYv"
      },
      "outputs": [],
      "source": [
        "from sklearn.metrics import f1_score"
      ]
    },
    {
      "cell_type": "code",
      "execution_count": null,
      "metadata": {
        "id": "J2vMgjZhwFYv",
        "outputId": "63c6c5b1-b161-426d-da52-6b2e714e7949"
      },
      "outputs": [
        {
          "name": "stdout",
          "output_type": "stream",
          "text": [
            "F1 Score for the Baseline Model (Accepted):  0.9090909090909091\n",
            "F1 Score for the SMOTE Model (Accepted):  0.9075630252100839\n"
          ]
        }
      ],
      "source": [
        "print(\"F1 Score for the Baseline Model (Accepted): \", f1_score(y_val, y_pred))\n",
        "print(\"F1 Score for the SMOTE Model (Accepted): \", f1_score(y_val, y_pred_sm))"
      ]
    },
    {
      "cell_type": "code",
      "execution_count": null,
      "metadata": {
        "id": "QRuSUg0UwFYv",
        "outputId": "f69f873d-42b4-4712-945e-9f59f4ef9550"
      },
      "outputs": [
        {
          "name": "stdout",
          "output_type": "stream",
          "text": [
            "F1 Score for the Baseline Model (Rejected):  0.6666666666666667\n",
            "F1 Score for the SMOTE Model (Rejected):  0.6857142857142857\n"
          ]
        }
      ],
      "source": [
        "print(\"F1 Score for the Baseline Model (Rejected): \", f1_score(y_val, y_pred, pos_label=0))\n",
        "print(\"F1 Score for the SMOTE Model (Rejected): \", f1_score(y_val, y_pred_sm, pos_label=0))"
      ]
    }
  ],
  "metadata": {
    "kernelspec": {
      "display_name": "Python 3 (ipykernel)",
      "language": "python",
      "name": "python3"
    },
    "language_info": {
      "codemirror_mode": {
        "name": "ipython",
        "version": 3
      },
      "file_extension": ".py",
      "mimetype": "text/x-python",
      "name": "python",
      "nbconvert_exporter": "python",
      "pygments_lexer": "ipython3",
      "version": "3.8.8"
    },
    "colab": {
      "provenance": [],
      "include_colab_link": true
    }
  },
  "nbformat": 4,
  "nbformat_minor": 0
}
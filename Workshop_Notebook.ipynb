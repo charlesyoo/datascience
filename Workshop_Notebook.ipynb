{
  "cells": [
    {
      "cell_type": "markdown",
      "metadata": {
        "id": "view-in-github",
        "colab_type": "text"
      },
      "source": [
        "<a href=\"https://colab.research.google.com/github/charlesyoo/datascience/blob/master/Workshop_Notebook.ipynb\" target=\"_parent\"><img src=\"https://colab.research.google.com/assets/colab-badge.svg\" alt=\"Open In Colab\"/></a>"
      ]
    },
    {
      "cell_type": "code",
      "execution_count": null,
      "metadata": {
        "id": "b9A3izj7HPvj"
      },
      "outputs": [],
      "source": [
        "import pandas as pd"
      ]
    },
    {
      "cell_type": "markdown",
      "metadata": {
        "id": "54zoeAidHPvm"
      },
      "source": [
        "# Importing"
      ]
    },
    {
      "cell_type": "code",
      "execution_count": null,
      "metadata": {
        "id": "AX4loxaNHPvn"
      },
      "outputs": [],
      "source": [
        "data = pd.read_csv(\"WorkshopData.csv\")"
      ]
    },
    {
      "cell_type": "code",
      "execution_count": null,
      "metadata": {
        "id": "Z_BoC0O4HPvo",
        "outputId": "7b2c3c3f-7b7f-4caa-f650-5f42f5269291"
      },
      "outputs": [
        {
          "data": {
            "text/html": [
              "<div>\n",
              "<style scoped>\n",
              "    .dataframe tbody tr th:only-of-type {\n",
              "        vertical-align: middle;\n",
              "    }\n",
              "\n",
              "    .dataframe tbody tr th {\n",
              "        vertical-align: top;\n",
              "    }\n",
              "\n",
              "    .dataframe thead th {\n",
              "        text-align: right;\n",
              "    }\n",
              "</style>\n",
              "<table border=\"1\" class=\"dataframe\">\n",
              "  <thead>\n",
              "    <tr style=\"text-align: right;\">\n",
              "      <th></th>\n",
              "      <th>Loan_ID</th>\n",
              "      <th>Gender</th>\n",
              "      <th>Married</th>\n",
              "      <th>Dependents</th>\n",
              "      <th>Education</th>\n",
              "      <th>Self_Employed</th>\n",
              "      <th>ApplicantIncome</th>\n",
              "      <th>LoanAmount</th>\n",
              "      <th>Loan_Amount_Term</th>\n",
              "      <th>Credit_History</th>\n",
              "      <th>Property_Area</th>\n",
              "      <th>Loan_Status</th>\n",
              "    </tr>\n",
              "  </thead>\n",
              "  <tbody>\n",
              "    <tr>\n",
              "      <th>0</th>\n",
              "      <td>LP001002</td>\n",
              "      <td>Male</td>\n",
              "      <td>No</td>\n",
              "      <td>0.0</td>\n",
              "      <td>Graduate</td>\n",
              "      <td>No</td>\n",
              "      <td>4000-&lt;=6000</td>\n",
              "      <td>NaN</td>\n",
              "      <td>360.0</td>\n",
              "      <td>1.0</td>\n",
              "      <td>Urban</td>\n",
              "      <td>1.0</td>\n",
              "    </tr>\n",
              "    <tr>\n",
              "      <th>1</th>\n",
              "      <td>LP001003</td>\n",
              "      <td>Male</td>\n",
              "      <td>Yes</td>\n",
              "      <td>1.0</td>\n",
              "      <td>Graduate</td>\n",
              "      <td>No</td>\n",
              "      <td>4000-&lt;=6000</td>\n",
              "      <td>128.0</td>\n",
              "      <td>360.0</td>\n",
              "      <td>1.0</td>\n",
              "      <td>Rural</td>\n",
              "      <td>0.0</td>\n",
              "    </tr>\n",
              "    <tr>\n",
              "      <th>2</th>\n",
              "      <td>LP001005</td>\n",
              "      <td>Male</td>\n",
              "      <td>Yes</td>\n",
              "      <td>0.0</td>\n",
              "      <td>Graduate</td>\n",
              "      <td>Yes</td>\n",
              "      <td>2000-&lt;=3000</td>\n",
              "      <td>66.0</td>\n",
              "      <td>360.0</td>\n",
              "      <td>1.0</td>\n",
              "      <td>Urban</td>\n",
              "      <td>1.0</td>\n",
              "    </tr>\n",
              "    <tr>\n",
              "      <th>3</th>\n",
              "      <td>LP001006</td>\n",
              "      <td>Male</td>\n",
              "      <td>Yes</td>\n",
              "      <td>0.0</td>\n",
              "      <td>Not Graduate</td>\n",
              "      <td>No</td>\n",
              "      <td>2000-&lt;=3000</td>\n",
              "      <td>120.0</td>\n",
              "      <td>360.0</td>\n",
              "      <td>1.0</td>\n",
              "      <td>Urban</td>\n",
              "      <td>1.0</td>\n",
              "    </tr>\n",
              "    <tr>\n",
              "      <th>4</th>\n",
              "      <td>LP001008</td>\n",
              "      <td>Male</td>\n",
              "      <td>No</td>\n",
              "      <td>0.0</td>\n",
              "      <td>Graduate</td>\n",
              "      <td>No</td>\n",
              "      <td>4000-&lt;=6000</td>\n",
              "      <td>141.0</td>\n",
              "      <td>360.0</td>\n",
              "      <td>1.0</td>\n",
              "      <td>Urban</td>\n",
              "      <td>1.0</td>\n",
              "    </tr>\n",
              "  </tbody>\n",
              "</table>\n",
              "</div>"
            ],
            "text/plain": [
              "    Loan_ID Gender Married  Dependents     Education Self_Employed  \\\n",
              "0  LP001002   Male      No         0.0      Graduate            No   \n",
              "1  LP001003   Male     Yes         1.0      Graduate            No   \n",
              "2  LP001005   Male     Yes         0.0      Graduate           Yes   \n",
              "3  LP001006   Male     Yes         0.0  Not Graduate            No   \n",
              "4  LP001008   Male      No         0.0      Graduate            No   \n",
              "\n",
              "  ApplicantIncome  LoanAmount  Loan_Amount_Term  Credit_History Property_Area  \\\n",
              "0     4000-<=6000         NaN             360.0             1.0         Urban   \n",
              "1     4000-<=6000       128.0             360.0             1.0         Rural   \n",
              "2     2000-<=3000        66.0             360.0             1.0         Urban   \n",
              "3     2000-<=3000       120.0             360.0             1.0         Urban   \n",
              "4     4000-<=6000       141.0             360.0             1.0         Urban   \n",
              "\n",
              "   Loan_Status  \n",
              "0          1.0  \n",
              "1          0.0  \n",
              "2          1.0  \n",
              "3          1.0  \n",
              "4          1.0  "
            ]
          },
          "execution_count": 3,
          "metadata": {},
          "output_type": "execute_result"
        }
      ],
      "source": [
        "data.head()"
      ]
    },
    {
      "cell_type": "markdown",
      "metadata": {
        "id": "u5cIkngkHPvp"
      },
      "source": [
        "# Cleaning"
      ]
    },
    {
      "cell_type": "code",
      "execution_count": null,
      "metadata": {
        "id": "Voy79WyrHPvq",
        "outputId": "d891fe42-dfc6-4f77-dac1-12524fa6296d"
      },
      "outputs": [
        {
          "data": {
            "text/plain": [
              "Loan_ID              0\n",
              "Gender              13\n",
              "Married              3\n",
              "Dependents          15\n",
              "Education            0\n",
              "Self_Employed       32\n",
              "ApplicantIncome      0\n",
              "LoanAmount          22\n",
              "Loan_Amount_Term    14\n",
              "Credit_History      50\n",
              "Property_Area        0\n",
              "Loan_Status          0\n",
              "dtype: int64"
            ]
          },
          "execution_count": 4,
          "metadata": {},
          "output_type": "execute_result"
        }
      ],
      "source": [
        "data.isna().sum()"
      ]
    },
    {
      "cell_type": "code",
      "execution_count": null,
      "metadata": {
        "id": "MRK16q6cHPvq"
      },
      "outputs": [],
      "source": [
        "data.dropna(inplace=True)\n",
        "# data.dropna(subset=['Gender', 'Dependents', 'Loan_Amount_Term'], inplace=True)\n",
        "# inplace=True means to change the \"data\" variable rather than generating a new dataframe"
      ]
    },
    {
      "cell_type": "markdown",
      "metadata": {
        "id": "JtPaxMgBHPvr"
      },
      "source": [
        "# Ordinal Encoding"
      ]
    },
    {
      "cell_type": "code",
      "execution_count": null,
      "metadata": {
        "id": "DTkcKLVnHPvr"
      },
      "outputs": [],
      "source": [
        "# normally, place all import statements at the top of the file\n",
        "from sklearn.preprocessing import OrdinalEncoder"
      ]
    },
    {
      "cell_type": "code",
      "execution_count": null,
      "metadata": {
        "id": "-w8eFBqjHPvr",
        "outputId": "e98d3c0a-a337-48f6-9b45-098f0706082d"
      },
      "outputs": [
        {
          "data": {
            "text/plain": [
              "array(['4000-<=6000', '2000-<=3000', '3000-<=4000', '10000-<=20000',\n",
              "       '1000-<=2000', '6000-<=8000', '8000-<=10000', '0-<=1000',\n",
              "       '20000-<=100000'], dtype=object)"
            ]
          },
          "execution_count": 7,
          "metadata": {},
          "output_type": "execute_result"
        }
      ],
      "source": [
        "data['ApplicantIncome'].unique()"
      ]
    },
    {
      "cell_type": "code",
      "execution_count": null,
      "metadata": {
        "id": "Df_ERCZDHPvs"
      },
      "outputs": [],
      "source": [
        "income_sort = ['0-<=1000','1000-<=2000', '2000-<=3000', '3000-<=4000','4000-<=6000','6000-<=8000','8000-<=10000','10000-<=20000','20000-<=100000']\n",
        "income_enc = OrdinalEncoder(categories=[income_sort])"
      ]
    },
    {
      "cell_type": "code",
      "execution_count": null,
      "metadata": {
        "id": "nZ_WIEdnHPvs"
      },
      "outputs": [],
      "source": [
        "data['ApplicantIncome'] = income_enc.fit_transform(data['ApplicantIncome'].values.reshape(-1, 1))\n",
        "# \"values\" converts the column from a pd.Series object to numpy.ndarray object\n",
        "# \"reshape(-1, 1)\" converts the dimension of the object from (length,) to (length, 1); in other words, [a,b,c,...] --> [[a,b,c,...]]"
      ]
    },
    {
      "cell_type": "code",
      "execution_count": null,
      "metadata": {
        "id": "ghcFGqu7HPvs",
        "outputId": "a670f5fc-565f-43d8-e09a-4d445f533a5d"
      },
      "outputs": [
        {
          "data": {
            "text/plain": [
              "3.0    122\n",
              "4.0    111\n",
              "2.0    106\n",
              "5.0     42\n",
              "7.0     35\n",
              "6.0     29\n",
              "1.0     26\n",
              "8.0      6\n",
              "0.0      3\n",
              "Name: ApplicantIncome, dtype: int64"
            ]
          },
          "execution_count": 10,
          "metadata": {},
          "output_type": "execute_result"
        }
      ],
      "source": [
        "data['ApplicantIncome'].value_counts()"
      ]
    },
    {
      "cell_type": "code",
      "execution_count": null,
      "metadata": {
        "id": "-rUUA_ohHPvt"
      },
      "outputs": [],
      "source": [
        "def encode_binary_variable(df, col, val_pos, val_neg):\n",
        "    df[col] = df[col].replace({val_pos:1, val_neg:0})"
      ]
    },
    {
      "cell_type": "code",
      "execution_count": null,
      "metadata": {
        "id": "U1R8R4KdHPvt"
      },
      "outputs": [],
      "source": [
        "encode_binary_variable(data, \"Married\", \"Yes\", \"No\")\n",
        "encode_binary_variable(data, \"Education\", \"Graduate\", \"Not Graduate\")\n",
        "encode_binary_variable(data, \"Self_Employed\", \"Yes\", \"No\")\n",
        "encode_binary_variable(data, \"Gender\", \"Female\", \"Male\")"
      ]
    },
    {
      "cell_type": "markdown",
      "metadata": {
        "id": "CBvfl2w2HPvt"
      },
      "source": [
        "# One-Hot Encoding"
      ]
    },
    {
      "cell_type": "code",
      "execution_count": null,
      "metadata": {
        "id": "Zy4MP06tHPvt",
        "outputId": "c0cc6b59-af36-4c31-fa7b-b7d7ab68e814"
      },
      "outputs": [
        {
          "data": {
            "text/html": [
              "<div>\n",
              "<style scoped>\n",
              "    .dataframe tbody tr th:only-of-type {\n",
              "        vertical-align: middle;\n",
              "    }\n",
              "\n",
              "    .dataframe tbody tr th {\n",
              "        vertical-align: top;\n",
              "    }\n",
              "\n",
              "    .dataframe thead th {\n",
              "        text-align: right;\n",
              "    }\n",
              "</style>\n",
              "<table border=\"1\" class=\"dataframe\">\n",
              "  <thead>\n",
              "    <tr style=\"text-align: right;\">\n",
              "      <th></th>\n",
              "      <th>Rural</th>\n",
              "      <th>Semiurban</th>\n",
              "      <th>Urban</th>\n",
              "    </tr>\n",
              "  </thead>\n",
              "  <tbody>\n",
              "    <tr>\n",
              "      <th>1</th>\n",
              "      <td>1</td>\n",
              "      <td>0</td>\n",
              "      <td>0</td>\n",
              "    </tr>\n",
              "    <tr>\n",
              "      <th>2</th>\n",
              "      <td>0</td>\n",
              "      <td>0</td>\n",
              "      <td>1</td>\n",
              "    </tr>\n",
              "    <tr>\n",
              "      <th>3</th>\n",
              "      <td>0</td>\n",
              "      <td>0</td>\n",
              "      <td>1</td>\n",
              "    </tr>\n",
              "    <tr>\n",
              "      <th>4</th>\n",
              "      <td>0</td>\n",
              "      <td>0</td>\n",
              "      <td>1</td>\n",
              "    </tr>\n",
              "    <tr>\n",
              "      <th>5</th>\n",
              "      <td>0</td>\n",
              "      <td>0</td>\n",
              "      <td>1</td>\n",
              "    </tr>\n",
              "  </tbody>\n",
              "</table>\n",
              "</div>"
            ],
            "text/plain": [
              "   Rural  Semiurban  Urban\n",
              "1      1          0      0\n",
              "2      0          0      1\n",
              "3      0          0      1\n",
              "4      0          0      1\n",
              "5      0          0      1"
            ]
          },
          "execution_count": 11,
          "metadata": {},
          "output_type": "execute_result"
        }
      ],
      "source": [
        "dummies = pd.get_dummies(data['Property_Area'])\n",
        "dummies.head()"
      ]
    },
    {
      "cell_type": "code",
      "execution_count": null,
      "metadata": {
        "id": "w3qUGNFfHPvt",
        "outputId": "96649f56-155e-4b36-b98f-ad293776eac3"
      },
      "outputs": [
        {
          "data": {
            "text/html": [
              "<div>\n",
              "<style scoped>\n",
              "    .dataframe tbody tr th:only-of-type {\n",
              "        vertical-align: middle;\n",
              "    }\n",
              "\n",
              "    .dataframe tbody tr th {\n",
              "        vertical-align: top;\n",
              "    }\n",
              "\n",
              "    .dataframe thead th {\n",
              "        text-align: right;\n",
              "    }\n",
              "</style>\n",
              "<table border=\"1\" class=\"dataframe\">\n",
              "  <thead>\n",
              "    <tr style=\"text-align: right;\">\n",
              "      <th></th>\n",
              "      <th>Loan_ID</th>\n",
              "      <th>Gender</th>\n",
              "      <th>Married</th>\n",
              "      <th>Dependents</th>\n",
              "      <th>Education</th>\n",
              "      <th>Self_Employed</th>\n",
              "      <th>ApplicantIncome</th>\n",
              "      <th>LoanAmount</th>\n",
              "      <th>Loan_Amount_Term</th>\n",
              "      <th>Credit_History</th>\n",
              "      <th>Property_Area</th>\n",
              "      <th>Loan_Status</th>\n",
              "      <th>Rural</th>\n",
              "      <th>Semiurban</th>\n",
              "      <th>Urban</th>\n",
              "    </tr>\n",
              "  </thead>\n",
              "  <tbody>\n",
              "    <tr>\n",
              "      <th>1</th>\n",
              "      <td>LP001003</td>\n",
              "      <td>Male</td>\n",
              "      <td>Yes</td>\n",
              "      <td>1.0</td>\n",
              "      <td>Graduate</td>\n",
              "      <td>No</td>\n",
              "      <td>4.0</td>\n",
              "      <td>128.0</td>\n",
              "      <td>360.0</td>\n",
              "      <td>1.0</td>\n",
              "      <td>Rural</td>\n",
              "      <td>0.0</td>\n",
              "      <td>1</td>\n",
              "      <td>0</td>\n",
              "      <td>0</td>\n",
              "    </tr>\n",
              "    <tr>\n",
              "      <th>2</th>\n",
              "      <td>LP001005</td>\n",
              "      <td>Male</td>\n",
              "      <td>Yes</td>\n",
              "      <td>0.0</td>\n",
              "      <td>Graduate</td>\n",
              "      <td>Yes</td>\n",
              "      <td>2.0</td>\n",
              "      <td>66.0</td>\n",
              "      <td>360.0</td>\n",
              "      <td>1.0</td>\n",
              "      <td>Urban</td>\n",
              "      <td>1.0</td>\n",
              "      <td>0</td>\n",
              "      <td>0</td>\n",
              "      <td>1</td>\n",
              "    </tr>\n",
              "    <tr>\n",
              "      <th>3</th>\n",
              "      <td>LP001006</td>\n",
              "      <td>Male</td>\n",
              "      <td>Yes</td>\n",
              "      <td>0.0</td>\n",
              "      <td>Not Graduate</td>\n",
              "      <td>No</td>\n",
              "      <td>2.0</td>\n",
              "      <td>120.0</td>\n",
              "      <td>360.0</td>\n",
              "      <td>1.0</td>\n",
              "      <td>Urban</td>\n",
              "      <td>1.0</td>\n",
              "      <td>0</td>\n",
              "      <td>0</td>\n",
              "      <td>1</td>\n",
              "    </tr>\n",
              "    <tr>\n",
              "      <th>4</th>\n",
              "      <td>LP001008</td>\n",
              "      <td>Male</td>\n",
              "      <td>No</td>\n",
              "      <td>0.0</td>\n",
              "      <td>Graduate</td>\n",
              "      <td>No</td>\n",
              "      <td>4.0</td>\n",
              "      <td>141.0</td>\n",
              "      <td>360.0</td>\n",
              "      <td>1.0</td>\n",
              "      <td>Urban</td>\n",
              "      <td>1.0</td>\n",
              "      <td>0</td>\n",
              "      <td>0</td>\n",
              "      <td>1</td>\n",
              "    </tr>\n",
              "    <tr>\n",
              "      <th>5</th>\n",
              "      <td>LP001011</td>\n",
              "      <td>Male</td>\n",
              "      <td>Yes</td>\n",
              "      <td>2.0</td>\n",
              "      <td>Graduate</td>\n",
              "      <td>Yes</td>\n",
              "      <td>4.0</td>\n",
              "      <td>267.0</td>\n",
              "      <td>360.0</td>\n",
              "      <td>1.0</td>\n",
              "      <td>Urban</td>\n",
              "      <td>1.0</td>\n",
              "      <td>0</td>\n",
              "      <td>0</td>\n",
              "      <td>1</td>\n",
              "    </tr>\n",
              "  </tbody>\n",
              "</table>\n",
              "</div>"
            ],
            "text/plain": [
              "    Loan_ID Gender Married  Dependents     Education Self_Employed  \\\n",
              "1  LP001003   Male     Yes         1.0      Graduate            No   \n",
              "2  LP001005   Male     Yes         0.0      Graduate           Yes   \n",
              "3  LP001006   Male     Yes         0.0  Not Graduate            No   \n",
              "4  LP001008   Male      No         0.0      Graduate            No   \n",
              "5  LP001011   Male     Yes         2.0      Graduate           Yes   \n",
              "\n",
              "   ApplicantIncome  LoanAmount  Loan_Amount_Term  Credit_History  \\\n",
              "1              4.0       128.0             360.0             1.0   \n",
              "2              2.0        66.0             360.0             1.0   \n",
              "3              2.0       120.0             360.0             1.0   \n",
              "4              4.0       141.0             360.0             1.0   \n",
              "5              4.0       267.0             360.0             1.0   \n",
              "\n",
              "  Property_Area  Loan_Status  Rural  Semiurban  Urban  \n",
              "1         Rural          0.0      1          0      0  \n",
              "2         Urban          1.0      0          0      1  \n",
              "3         Urban          1.0      0          0      1  \n",
              "4         Urban          1.0      0          0      1  \n",
              "5         Urban          1.0      0          0      1  "
            ]
          },
          "execution_count": 12,
          "metadata": {},
          "output_type": "execute_result"
        }
      ],
      "source": [
        "data = pd.concat([data, dummies], axis=1)\n",
        "data.head()"
      ]
    },
    {
      "cell_type": "code",
      "execution_count": null,
      "metadata": {
        "id": "dZ6tRmysHPvt"
      },
      "outputs": [],
      "source": [
        "data.drop(labels=[\"Property_Area\"], axis=1, inplace=True)"
      ]
    },
    {
      "cell_type": "code",
      "execution_count": null,
      "metadata": {
        "scrolled": true,
        "id": "iIpjSBJnHPvu",
        "outputId": "f19a5d35-68a8-40ad-ca57-fcce354a75fe"
      },
      "outputs": [
        {
          "data": {
            "text/html": [
              "<div>\n",
              "<style scoped>\n",
              "    .dataframe tbody tr th:only-of-type {\n",
              "        vertical-align: middle;\n",
              "    }\n",
              "\n",
              "    .dataframe tbody tr th {\n",
              "        vertical-align: top;\n",
              "    }\n",
              "\n",
              "    .dataframe thead th {\n",
              "        text-align: right;\n",
              "    }\n",
              "</style>\n",
              "<table border=\"1\" class=\"dataframe\">\n",
              "  <thead>\n",
              "    <tr style=\"text-align: right;\">\n",
              "      <th></th>\n",
              "      <th>Loan_ID</th>\n",
              "      <th>Gender</th>\n",
              "      <th>Married</th>\n",
              "      <th>Dependents</th>\n",
              "      <th>Education</th>\n",
              "      <th>Self_Employed</th>\n",
              "      <th>ApplicantIncome</th>\n",
              "      <th>LoanAmount</th>\n",
              "      <th>Loan_Amount_Term</th>\n",
              "      <th>Credit_History</th>\n",
              "      <th>Loan_Status</th>\n",
              "      <th>Rural</th>\n",
              "      <th>Semiurban</th>\n",
              "      <th>Urban</th>\n",
              "    </tr>\n",
              "  </thead>\n",
              "  <tbody>\n",
              "    <tr>\n",
              "      <th>1</th>\n",
              "      <td>LP001003</td>\n",
              "      <td>0</td>\n",
              "      <td>1</td>\n",
              "      <td>1.0</td>\n",
              "      <td>1</td>\n",
              "      <td>0</td>\n",
              "      <td>4.0</td>\n",
              "      <td>128.0</td>\n",
              "      <td>360.0</td>\n",
              "      <td>1.0</td>\n",
              "      <td>0.0</td>\n",
              "      <td>1</td>\n",
              "      <td>0</td>\n",
              "      <td>0</td>\n",
              "    </tr>\n",
              "    <tr>\n",
              "      <th>2</th>\n",
              "      <td>LP001005</td>\n",
              "      <td>0</td>\n",
              "      <td>1</td>\n",
              "      <td>0.0</td>\n",
              "      <td>1</td>\n",
              "      <td>1</td>\n",
              "      <td>2.0</td>\n",
              "      <td>66.0</td>\n",
              "      <td>360.0</td>\n",
              "      <td>1.0</td>\n",
              "      <td>1.0</td>\n",
              "      <td>0</td>\n",
              "      <td>0</td>\n",
              "      <td>1</td>\n",
              "    </tr>\n",
              "    <tr>\n",
              "      <th>3</th>\n",
              "      <td>LP001006</td>\n",
              "      <td>0</td>\n",
              "      <td>1</td>\n",
              "      <td>0.0</td>\n",
              "      <td>0</td>\n",
              "      <td>0</td>\n",
              "      <td>2.0</td>\n",
              "      <td>120.0</td>\n",
              "      <td>360.0</td>\n",
              "      <td>1.0</td>\n",
              "      <td>1.0</td>\n",
              "      <td>0</td>\n",
              "      <td>0</td>\n",
              "      <td>1</td>\n",
              "    </tr>\n",
              "    <tr>\n",
              "      <th>4</th>\n",
              "      <td>LP001008</td>\n",
              "      <td>0</td>\n",
              "      <td>0</td>\n",
              "      <td>0.0</td>\n",
              "      <td>1</td>\n",
              "      <td>0</td>\n",
              "      <td>4.0</td>\n",
              "      <td>141.0</td>\n",
              "      <td>360.0</td>\n",
              "      <td>1.0</td>\n",
              "      <td>1.0</td>\n",
              "      <td>0</td>\n",
              "      <td>0</td>\n",
              "      <td>1</td>\n",
              "    </tr>\n",
              "    <tr>\n",
              "      <th>5</th>\n",
              "      <td>LP001011</td>\n",
              "      <td>0</td>\n",
              "      <td>1</td>\n",
              "      <td>2.0</td>\n",
              "      <td>1</td>\n",
              "      <td>1</td>\n",
              "      <td>4.0</td>\n",
              "      <td>267.0</td>\n",
              "      <td>360.0</td>\n",
              "      <td>1.0</td>\n",
              "      <td>1.0</td>\n",
              "      <td>0</td>\n",
              "      <td>0</td>\n",
              "      <td>1</td>\n",
              "    </tr>\n",
              "  </tbody>\n",
              "</table>\n",
              "</div>"
            ],
            "text/plain": [
              "    Loan_ID  Gender  Married  Dependents  Education  Self_Employed  \\\n",
              "1  LP001003       0        1         1.0          1              0   \n",
              "2  LP001005       0        1         0.0          1              1   \n",
              "3  LP001006       0        1         0.0          0              0   \n",
              "4  LP001008       0        0         0.0          1              0   \n",
              "5  LP001011       0        1         2.0          1              1   \n",
              "\n",
              "   ApplicantIncome  LoanAmount  Loan_Amount_Term  Credit_History  Loan_Status  \\\n",
              "1              4.0       128.0             360.0             1.0          0.0   \n",
              "2              2.0        66.0             360.0             1.0          1.0   \n",
              "3              2.0       120.0             360.0             1.0          1.0   \n",
              "4              4.0       141.0             360.0             1.0          1.0   \n",
              "5              4.0       267.0             360.0             1.0          1.0   \n",
              "\n",
              "   Rural  Semiurban  Urban  \n",
              "1      1          0      0  \n",
              "2      0          0      1  \n",
              "3      0          0      1  \n",
              "4      0          0      1  \n",
              "5      0          0      1  "
            ]
          },
          "execution_count": 16,
          "metadata": {},
          "output_type": "execute_result"
        }
      ],
      "source": [
        "data.head()"
      ]
    },
    {
      "cell_type": "markdown",
      "metadata": {
        "id": "yXqVK1lzHPvu"
      },
      "source": [
        "# Creating the Training, Validation, and Testing Data"
      ]
    },
    {
      "cell_type": "code",
      "execution_count": null,
      "metadata": {
        "id": "2WEM39luHPvu"
      },
      "outputs": [],
      "source": [
        "from sklearn.model_selection import train_test_split"
      ]
    },
    {
      "cell_type": "code",
      "execution_count": null,
      "metadata": {
        "id": "g2IttZsKHPvu"
      },
      "outputs": [],
      "source": [
        "X = data.drop(labels=[\"Loan_ID\", \"Loan_Status\"], axis=1)\n",
        "y = data[\"Loan_Status\"]"
      ]
    },
    {
      "cell_type": "code",
      "execution_count": null,
      "metadata": {
        "id": "IcQjvOvJHPvu"
      },
      "outputs": [],
      "source": [
        "# create testing dataset\n",
        "X_train_full, X_test, y_train_full, y_test = train_test_split(X, y, test_size=0.2, random_state=0)\n",
        "# create training and validation sets\n",
        "X_train, X_val, y_train, y_val = train_test_split(X_train_full, y_train_full, test_size=0.2, random_state=0)"
      ]
    },
    {
      "cell_type": "markdown",
      "metadata": {
        "id": "EIb1IhLdHPvu"
      },
      "source": [
        "# Logistic Regression Model"
      ]
    },
    {
      "cell_type": "code",
      "execution_count": null,
      "metadata": {
        "id": "wi_HyN-KHPvu"
      },
      "outputs": [],
      "source": [
        "from sklearn.linear_model import LogisticRegression"
      ]
    },
    {
      "cell_type": "code",
      "execution_count": null,
      "metadata": {
        "id": "p61zvChsHPvu"
      },
      "outputs": [],
      "source": [
        "logreg = LogisticRegression(random_state=1, max_iter=1000)"
      ]
    },
    {
      "cell_type": "code",
      "execution_count": null,
      "metadata": {
        "id": "_kKrpugMHPvv",
        "outputId": "8b16f3f9-61b5-4d2e-86c7-e3454e4bb59d"
      },
      "outputs": [
        {
          "data": {
            "text/plain": [
              "LogisticRegression(max_iter=1000, random_state=1)"
            ]
          },
          "execution_count": 25,
          "metadata": {},
          "output_type": "execute_result"
        }
      ],
      "source": [
        "logreg.fit(X_train, y_train)"
      ]
    },
    {
      "cell_type": "code",
      "execution_count": null,
      "metadata": {
        "id": "fV1nw4koHPvv"
      },
      "outputs": [],
      "source": [
        "y_pred = logreg.predict(X_val)"
      ]
    },
    {
      "cell_type": "markdown",
      "metadata": {
        "id": "aCf1UIsOHPvv"
      },
      "source": [
        "# Model Performance"
      ]
    },
    {
      "cell_type": "code",
      "execution_count": null,
      "metadata": {
        "id": "MoIfl1u5HPvv",
        "outputId": "84f052f5-48bc-4df0-b70b-ce0c54bfb7f7"
      },
      "outputs": [
        {
          "name": "stdout",
          "output_type": "stream",
          "text": [
            "69.16666666666667% of entries correspond to accepted loans\n"
          ]
        }
      ],
      "source": [
        "data['Loan_Status'].value_counts()\n",
        "print(str(data['Loan_Status'].value_counts()[1]/(data['Loan_Status'].value_counts()[1]+data['Loan_Status'].value_counts()[0])*100)+\"% of entries correspond to accepted loans\")"
      ]
    },
    {
      "cell_type": "code",
      "execution_count": null,
      "metadata": {
        "id": "-0jO0PzZHPvv"
      },
      "outputs": [],
      "source": [
        "from sklearn.metrics import accuracy_score, precision_score, recall_score"
      ]
    },
    {
      "cell_type": "code",
      "execution_count": null,
      "metadata": {
        "id": "rHMdvmadHPvv",
        "outputId": "caa0017f-e5d7-4047-89c3-5e277e9f8050"
      },
      "outputs": [
        {
          "name": "stdout",
          "output_type": "stream",
          "text": [
            "Accuracy:  0.8571428571428571\n"
          ]
        }
      ],
      "source": [
        "print(\"Accuracy: \", accuracy_score(y_val, y_pred))"
      ]
    },
    {
      "cell_type": "code",
      "execution_count": null,
      "metadata": {
        "id": "hktuXcz4HPvv",
        "outputId": "fc53fe36-4ed1-40e9-d8af-d04b2b95830e"
      },
      "outputs": [
        {
          "name": "stdout",
          "output_type": "stream",
          "text": [
            "Precision for Accepted Applications:  0.8461538461538461\n",
            "Recall for Accepted Applications:  0.9821428571428571\n"
          ]
        }
      ],
      "source": [
        "print(\"Precision for Accepted Applications: \", precision_score(y_val, y_pred))\n",
        "print(\"Recall for Accepted Applications: \", recall_score(y_val, y_pred))"
      ]
    },
    {
      "cell_type": "code",
      "execution_count": null,
      "metadata": {
        "id": "RriXYDt6HPvw",
        "outputId": "d944ea45-b3e8-4919-e1c2-7705e6406232"
      },
      "outputs": [
        {
          "name": "stdout",
          "output_type": "stream",
          "text": [
            "Precision for Rejected Applications:  0.9166666666666666\n",
            "Recall for Rejected Applications:  0.5238095238095238\n"
          ]
        }
      ],
      "source": [
        "print(\"Precision for Rejected Applications: \", precision_score(y_val, y_pred, pos_label=0))\n",
        "print(\"Recall for Rejected Applications: \", recall_score(y_val, y_pred, pos_label=0))"
      ]
    },
    {
      "cell_type": "markdown",
      "metadata": {
        "id": "ctPE36usHPvw"
      },
      "source": [
        "# Utilizing SMOTE"
      ]
    },
    {
      "cell_type": "code",
      "execution_count": null,
      "metadata": {
        "id": "FIRInYi7HPvw"
      },
      "outputs": [],
      "source": [
        "from imblearn.over_sampling import SMOTE"
      ]
    },
    {
      "cell_type": "code",
      "execution_count": null,
      "metadata": {
        "id": "ihT3wS6JHPvw"
      },
      "outputs": [],
      "source": [
        "smote = SMOTE(sampling_strategy='minority')\n",
        "X_train_res, y_train_res = smote.fit_resample(X_train, y_train)"
      ]
    },
    {
      "cell_type": "code",
      "execution_count": null,
      "metadata": {
        "id": "kh2GyDRfHPvw",
        "outputId": "67c7559b-0655-4f8b-b669-be2d68263824"
      },
      "outputs": [
        {
          "data": {
            "text/plain": [
              "1.0    215\n",
              "0.0    215\n",
              "Name: Loan_Status, dtype: int64"
            ]
          },
          "execution_count": 34,
          "metadata": {},
          "output_type": "execute_result"
        }
      ],
      "source": [
        "y_train_res.value_counts()"
      ]
    },
    {
      "cell_type": "code",
      "execution_count": null,
      "metadata": {
        "id": "gf5NlXjXHPvx"
      },
      "outputs": [],
      "source": [
        "logreg_sm = LogisticRegression(random_state=0, max_iter=1000)\n",
        "logreg_sm.fit(X_train_res, y_train_res)\n",
        "y_pred_sm = logreg_sm.predict(X_val)"
      ]
    },
    {
      "cell_type": "code",
      "execution_count": null,
      "metadata": {
        "id": "B_klA9nXHPvx",
        "outputId": "b7b76497-70f9-4399-912a-1600cc44c33b"
      },
      "outputs": [
        {
          "name": "stdout",
          "output_type": "stream",
          "text": [
            "Accuracy:  0.8571428571428571\n"
          ]
        }
      ],
      "source": [
        "print(\"Accuracy: \", accuracy_score(y_val, y_pred_sm))"
      ]
    },
    {
      "cell_type": "code",
      "execution_count": null,
      "metadata": {
        "id": "vuFRxjgpHPvx",
        "outputId": "0ed6ed88-e99f-4233-ce43-5d5addcbfc37"
      },
      "outputs": [
        {
          "name": "stdout",
          "output_type": "stream",
          "text": [
            "Precision for Accepted Applications:  0.8571428571428571\n",
            "Recall for Accepted Applications:  0.9642857142857143\n"
          ]
        }
      ],
      "source": [
        "print(\"Precision for Accepted Applications: \", precision_score(y_val, y_pred_sm))\n",
        "print(\"Recall for Accepted Applications: \", recall_score(y_val, y_pred_sm))"
      ]
    },
    {
      "cell_type": "code",
      "execution_count": null,
      "metadata": {
        "id": "EKnuftfDHPvy",
        "outputId": "b08a6f96-4424-4c6f-a0c9-48b8ba0ec06a"
      },
      "outputs": [
        {
          "name": "stdout",
          "output_type": "stream",
          "text": [
            "Precision for Rejected Applications:  0.8571428571428571\n",
            "Recall for Rejected Applications:  0.5714285714285714\n"
          ]
        }
      ],
      "source": [
        "print(\"Precision for Rejected Applications: \", precision_score(y_val, y_pred_sm, pos_label=0))\n",
        "print(\"Recall for Rejected Applications: \", recall_score(y_val, y_pred_sm, pos_label=0))"
      ]
    },
    {
      "cell_type": "markdown",
      "metadata": {
        "id": "uHcxt40zHPvy"
      },
      "source": [
        "# Measuring the Tradeoff"
      ]
    },
    {
      "cell_type": "code",
      "execution_count": null,
      "metadata": {
        "id": "p0PtgyOQHPvy"
      },
      "outputs": [],
      "source": [
        "from sklearn.metrics import f1_score"
      ]
    },
    {
      "cell_type": "code",
      "execution_count": null,
      "metadata": {
        "id": "mMrmRPO7HPvy",
        "outputId": "b01dde27-850b-410a-e411-d24ecbdd0597"
      },
      "outputs": [
        {
          "name": "stdout",
          "output_type": "stream",
          "text": [
            "F1 Score for the Baseline Model (Accepted):  0.9090909090909091\n",
            "F1 Score for the SMOTE Model (Accepted):  0.9075630252100839\n"
          ]
        }
      ],
      "source": [
        "print(\"F1 Score for the Baseline Model (Accepted): \", f1_score(y_val, y_pred))\n",
        "print(\"F1 Score for the SMOTE Model (Accepted): \", f1_score(y_val, y_pred_sm))"
      ]
    },
    {
      "cell_type": "code",
      "execution_count": null,
      "metadata": {
        "id": "6vSgVvYmHPvy",
        "outputId": "3e87f201-ba51-47a8-9554-5a828d090f9a"
      },
      "outputs": [
        {
          "name": "stdout",
          "output_type": "stream",
          "text": [
            "F1 Score for the Baseline Model (Rejected):  0.6666666666666667\n",
            "F1 Score for the SMOTE Model (Rejected):  0.6857142857142857\n"
          ]
        }
      ],
      "source": [
        "print(\"F1 Score for the Baseline Model (Rejected): \", f1_score(y_val, y_pred, pos_label=0))\n",
        "print(\"F1 Score for the SMOTE Model (Rejected): \", f1_score(y_val, y_pred_sm, pos_label=0))"
      ]
    }
  ],
  "metadata": {
    "kernelspec": {
      "display_name": "Python 3 (ipykernel)",
      "language": "python",
      "name": "python3"
    },
    "language_info": {
      "codemirror_mode": {
        "name": "ipython",
        "version": 3
      },
      "file_extension": ".py",
      "mimetype": "text/x-python",
      "name": "python",
      "nbconvert_exporter": "python",
      "pygments_lexer": "ipython3",
      "version": "3.8.8"
    },
    "colab": {
      "provenance": [],
      "include_colab_link": true
    }
  },
  "nbformat": 4,
  "nbformat_minor": 0
}